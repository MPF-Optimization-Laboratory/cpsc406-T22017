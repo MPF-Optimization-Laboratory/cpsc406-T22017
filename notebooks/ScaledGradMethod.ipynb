{
 "cells": [
  {
   "cell_type": "markdown",
   "metadata": {},
   "source": [
    "# Scaled Gradient Method"
   ]
  },
  {
   "cell_type": "code",
   "execution_count": 1,
   "metadata": {
    "collapsed": true
   },
   "outputs": [],
   "source": [
    "using Plots, ForwardDiff"
   ]
  },
  {
   "cell_type": "markdown",
   "metadata": {},
   "source": [
    "## Gradient method with backtracking"
   ]
  },
  {
   "cell_type": "code",
   "execution_count": 2,
   "metadata": {
    "collapsed": true
   },
   "outputs": [],
   "source": [
    "# Gradient method with backtracking linesearch\n",
    "function grad_method_backtracking(fObj, gObj, x0; ϵ=1e-6, μ=1e-5, maxits = 1000)\n",
    "    x = copy(x0)\n",
    "    f = fObj(x)\n",
    "    ∇f = gObj(x)\n",
    "    k = 0\n",
    "    xtrace = x\n",
    "    while norm(∇f) > ϵ && k < maxits\n",
    "        α = 1.0\n",
    "        while ( f - fObj(x-α*∇f) < μ*α*dot(∇f,∇f) )\n",
    "            α /= 2\n",
    "        end\n",
    "        x = x - α*∇f\n",
    "        f = fObj(x)\n",
    "        ∇f = gObj(x)\n",
    "        @printf \"it = %3d | |∇f| = %8.2e | f = %8.2e\\n\" k norm(∇f) f\n",
    "        k += 1; xtrace = hcat(xtrace,x)\n",
    "    end\n",
    "    return x, xtrace\n",
    "end;"
   ]
  },
  {
   "cell_type": "markdown",
   "metadata": {},
   "source": [
    "### Ill-conditioned quadratic"
   ]
  },
  {
   "cell_type": "markdown",
   "metadata": {},
   "source": [
    "## Rosenbrock function\n",
    "$$\n",
    "f(x) = 100(x_2 - x_1^2)^2 + (1-x_1)^2\n",
    "$$"
   ]
  },
  {
   "cell_type": "markdown",
   "metadata": {},
   "source": [
    "## Scaling"
   ]
  },
  {
   "cell_type": "code",
   "execution_count": 3,
   "metadata": {
    "collapsed": true
   },
   "outputs": [],
   "source": [
    "# Gradient method with backtracking linesearch\n",
    "function grad_method_scaled_backtracking(fObj, gObj, Dobj, x0; ϵ=1e-6, μ=1e-5, maxits = 1000)\n",
    "    n = length(x0)\n",
    "    x = copy(x0)\n",
    "    f = fObj(x)\n",
    "    ∇f = gObj(x)\n",
    "    D = Dobj(x)\n",
    "    k = 0\n",
    "    xtrace = x\n",
    "    while norm(∇f) > ϵ && k < maxits\n",
    "        α = 1.0\n",
    "        d = D*∇f\n",
    "        while ( f - fObj(x-α*d) < μ*α*dot(∇f,d) )\n",
    "            α /= 2\n",
    "        end\n",
    "        x = x - α*d\n",
    "        f = fObj(x)\n",
    "        ∇f = gObj(x)\n",
    "        D = Dobj(x)\n",
    "        @printf \"it = %3d | |∇f| = %8.2e | f = %8.2e\\n\" k norm(∇f) f\n",
    "        k += 1; xtrace = hcat(xtrace,x)\n",
    "    end\n",
    "    return x, xtrace\n",
    "end;"
   ]
  },
  {
   "cell_type": "code",
   "execution_count": 4,
   "metadata": {
    "scrolled": true
   },
   "outputs": [
    {
     "name": "stdout",
     "output_type": "stream",
     "text": [
      "it =   0 | |∇f| = 2.03e+00 | f = 1.01e+00\n",
      "it =   1 | |∇f| = 4.65e+01 | f = 9.52e-01\n",
      "it =   2 | |∇f| = 3.65e+00 | f = 4.91e-01\n",
      "it =   3 | |∇f| = 3.01e+01 | f = 4.55e-01\n",
      "it =   4 | |∇f| = 2.22e+00 | f = 1.95e-01\n",
      "it =   5 | |∇f| = 1.39e+01 | f = 1.42e-01\n",
      "it =   6 | |∇f| = 1.77e+00 | f = 5.80e-02\n",
      "it =   7 | |∇f| = 4.15e+00 | f = 3.13e-02\n",
      "it =   8 | |∇f| = 2.09e+00 | f = 1.09e-02\n",
      "it =   9 | |∇f| = 1.41e+00 | f = 2.66e-03\n",
      "it =  10 | |∇f| = 3.61e-01 | f = 3.00e-04\n",
      "it =  11 | |∇f| = 8.70e-02 | f = 7.61e-06\n",
      "it =  12 | |∇f| = 1.85e-03 | f = 7.48e-09\n",
      "it =  13 | |∇f| = 2.79e-06 | f = 6.45e-14\n",
      "it =  14 | |∇f| = 5.51e-10 | f = 3.79e-19\n"
     ]
    }
   ],
   "source": [
    "f(x) = 100(x[2]-x[1]^2)^2 + (1-x[1])^2\n",
    "∇f(x) = ForwardDiff.gradient(f, x)\n",
    "D(x) = inv(ForwardDiff.hessian(f,x) + 1e-3*eye(2))\n",
    "x0 = [2,5]\n",
    "x, xtrace = grad_method_scaled_backtracking(f, ∇f, D, x0);"
   ]
  },
  {
   "cell_type": "markdown",
   "metadata": {},
   "source": [
    "Let's try the same problem, but with the unscaled gradient."
   ]
  },
  {
   "cell_type": "code",
   "execution_count": 15,
   "metadata": {
    "scrolled": true
   },
   "outputs": [
    {
     "name": "stdout",
     "output_type": "stream",
     "text": [
      "it =   0 | |∇f| = 7.92e+02 | f = 6.72e+01\n",
      "it =   1 | |∇f| = 8.80e+01 | f = 2.44e+00\n",
      "it =   2 | |∇f| = 5.41e-01 | f = 1.49e+00\n",
      "it =   3 | |∇f| = 4.56e+00 | f = 1.49e+00\n",
      "it =   4 | |∇f| = 4.66e+00 | f = 1.49e+00\n",
      "it =   5 | |∇f| = 4.76e+00 | f = 1.49e+00\n",
      "it =   6 | |∇f| = 4.86e+00 | f = 1.49e+00\n",
      "it =   7 | |∇f| = 4.97e+00 | f = 1.49e+00\n",
      "it =   8 | |∇f| = 5.07e+00 | f = 1.49e+00\n",
      "it =   9 | |∇f| = 5.18e+00 | f = 1.49e+00\n",
      "it =  10 | |∇f| = 5.39e-01 | f = 1.49e+00\n",
      "it =  11 | |∇f| = 7.74e+00 | f = 1.49e+00\n",
      "it =  12 | |∇f| = 5.39e-01 | f = 1.48e+00\n",
      "it =  13 | |∇f| = 4.36e+00 | f = 1.48e+00\n",
      "it =  14 | |∇f| = 4.42e+00 | f = 1.48e+00\n",
      "it =  15 | |∇f| = 4.47e+00 | f = 1.48e+00\n",
      "it =  16 | |∇f| = 4.52e+00 | f = 1.48e+00\n",
      "it =  17 | |∇f| = 4.57e+00 | f = 1.48e+00\n",
      "it =  18 | |∇f| = 4.62e+00 | f = 1.48e+00\n",
      "it =  19 | |∇f| = 4.68e+00 | f = 1.48e+00\n",
      "it =  20 | |∇f| = 4.73e+00 | f = 1.48e+00\n",
      "it =  21 | |∇f| = 4.78e+00 | f = 1.48e+00\n",
      "it =  22 | |∇f| = 4.84e+00 | f = 1.47e+00\n",
      "it =  23 | |∇f| = 4.89e+00 | f = 1.47e+00\n",
      "it =  24 | |∇f| = 4.94e+00 | f = 1.47e+00\n",
      "it =  25 | |∇f| = 5.00e+00 | f = 1.47e+00\n",
      "it =  26 | |∇f| = 5.05e+00 | f = 1.47e+00\n",
      "it =  27 | |∇f| = 5.10e+00 | f = 1.47e+00\n",
      "it =  28 | |∇f| = 5.16e+00 | f = 1.47e+00\n",
      "it =  29 | |∇f| = 5.21e+00 | f = 1.47e+00\n",
      "it =  30 | |∇f| = 5.27e+00 | f = 1.47e+00\n",
      "it =  31 | |∇f| = 5.32e+00 | f = 1.47e+00\n",
      "it =  32 | |∇f| = 5.37e+00 | f = 1.47e+00\n",
      "it =  33 | |∇f| = 5.43e+00 | f = 1.47e+00\n",
      "it =  34 | |∇f| = 5.48e+00 | f = 1.47e+00\n",
      "it =  35 | |∇f| = 5.54e+00 | f = 1.47e+00\n",
      "it =  36 | |∇f| = 5.59e+00 | f = 1.47e+00\n",
      "it =  37 | |∇f| = 5.64e+00 | f = 1.47e+00\n",
      "it =  38 | |∇f| = 5.70e+00 | f = 1.47e+00\n",
      "it =  39 | |∇f| = 5.75e+00 | f = 1.47e+00\n",
      "it =  40 | |∇f| = 5.81e+00 | f = 1.47e+00\n",
      "it =  41 | |∇f| = 5.86e+00 | f = 1.47e+00\n",
      "it =  42 | |∇f| = 5.91e+00 | f = 1.47e+00\n",
      "it =  43 | |∇f| = 5.97e+00 | f = 1.47e+00\n",
      "it =  44 | |∇f| = 6.02e+00 | f = 1.47e+00\n",
      "it =  45 | |∇f| = 6.07e+00 | f = 1.47e+00\n",
      "it =  46 | |∇f| = 6.13e+00 | f = 1.47e+00\n",
      "it =  47 | |∇f| = 6.18e+00 | f = 1.47e+00\n",
      "it =  48 | |∇f| = 6.23e+00 | f = 1.47e+00\n",
      "it =  49 | |∇f| = 6.29e+00 | f = 1.47e+00\n",
      "it =  50 | |∇f| = 6.34e+00 | f = 1.47e+00\n",
      "it =  51 | |∇f| = 6.39e+00 | f = 1.47e+00\n",
      "it =  52 | |∇f| = 6.45e+00 | f = 1.47e+00\n",
      "it =  53 | |∇f| = 6.50e+00 | f = 1.47e+00\n",
      "it =  54 | |∇f| = 6.55e+00 | f = 1.47e+00\n",
      "it =  55 | |∇f| = 6.60e+00 | f = 1.47e+00\n",
      "it =  56 | |∇f| = 6.65e+00 | f = 1.47e+00\n",
      "it =  57 | |∇f| = 6.70e+00 | f = 1.47e+00\n",
      "it =  58 | |∇f| = 6.76e+00 | f = 1.47e+00\n",
      "it =  59 | |∇f| = 6.81e+00 | f = 1.47e+00\n",
      "it =  60 | |∇f| = 6.86e+00 | f = 1.47e+00\n",
      "it =  61 | |∇f| = 6.91e+00 | f = 1.47e+00\n",
      "it =  62 | |∇f| = 6.96e+00 | f = 1.47e+00\n",
      "it =  63 | |∇f| = 7.01e+00 | f = 1.47e+00\n",
      "it =  64 | |∇f| = 7.06e+00 | f = 1.47e+00\n",
      "it =  65 | |∇f| = 7.11e+00 | f = 1.47e+00\n",
      "it =  66 | |∇f| = 7.15e+00 | f = 1.47e+00\n",
      "it =  67 | |∇f| = 7.20e+00 | f = 1.47e+00\n",
      "it =  68 | |∇f| = 7.25e+00 | f = 1.47e+00\n",
      "it =  69 | |∇f| = 7.30e+00 | f = 1.47e+00\n",
      "it =  70 | |∇f| = 7.34e+00 | f = 1.47e+00\n",
      "it =  71 | |∇f| = 7.39e+00 | f = 1.47e+00\n",
      "it =  72 | |∇f| = 7.44e+00 | f = 1.47e+00\n",
      "it =  73 | |∇f| = 7.48e+00 | f = 1.47e+00\n",
      "it =  74 | |∇f| = 7.53e+00 | f = 1.47e+00\n",
      "it =  75 | |∇f| = 7.57e+00 | f = 1.47e+00\n",
      "it =  76 | |∇f| = 7.62e+00 | f = 1.47e+00\n",
      "it =  77 | |∇f| = 7.66e+00 | f = 1.47e+00\n",
      "it =  78 | |∇f| = 7.70e+00 | f = 1.47e+00\n",
      "it =  79 | |∇f| = 7.75e+00 | f = 1.47e+00\n",
      "it =  80 | |∇f| = 7.79e+00 | f = 1.47e+00\n",
      "it =  81 | |∇f| = 7.83e+00 | f = 1.47e+00\n",
      "it =  82 | |∇f| = 7.87e+00 | f = 1.47e+00\n",
      "it =  83 | |∇f| = 7.91e+00 | f = 1.47e+00\n",
      "it =  84 | |∇f| = 7.95e+00 | f = 1.47e+00\n",
      "it =  85 | |∇f| = 7.99e+00 | f = 1.47e+00\n",
      "it =  86 | |∇f| = 8.03e+00 | f = 1.47e+00\n",
      "it =  87 | |∇f| = 8.07e+00 | f = 1.47e+00\n",
      "it =  88 | |∇f| = 8.11e+00 | f = 1.47e+00\n",
      "it =  89 | |∇f| = 8.14e+00 | f = 1.47e+00\n",
      "it =  90 | |∇f| = 8.18e+00 | f = 1.47e+00\n",
      "it =  91 | |∇f| = 8.22e+00 | f = 1.47e+00\n",
      "it =  92 | |∇f| = 8.25e+00 | f = 1.47e+00\n",
      "it =  93 | |∇f| = 8.28e+00 | f = 1.47e+00\n",
      "it =  94 | |∇f| = 8.32e+00 | f = 1.47e+00\n",
      "it =  95 | |∇f| = 8.35e+00 | f = 1.47e+00\n",
      "it =  96 | |∇f| = 8.38e+00 | f = 1.47e+00\n",
      "it =  97 | |∇f| = 8.42e+00 | f = 1.47e+00\n",
      "it =  98 | |∇f| = 8.45e+00 | f = 1.47e+00\n",
      "it =  99 | |∇f| = 8.48e+00 | f = 1.47e+00\n"
     ]
    }
   ],
   "source": [
    "f(x) = 100(x[2]-x[1]^2)^2 + (1-x[1])^2\n",
    "∇f(x) = ForwardDiff.gradient(f, x)\n",
    "D(x) = eye(2)\n",
    "x0 = [2,5]\n",
    "x, xtrace = grad_method_scaled_backtracking(f, ∇f, D, x0, maxits=100);"
   ]
  },
  {
   "cell_type": "code",
   "execution_count": null,
   "metadata": {
    "collapsed": true
   },
   "outputs": [],
   "source": []
  }
 ],
 "metadata": {
  "kernelspec": {
   "display_name": "Julia 0.6.2",
   "language": "julia",
   "name": "julia-0.6"
  },
  "language_info": {
   "file_extension": ".jl",
   "mimetype": "application/julia",
   "name": "julia",
   "version": "0.6.2"
  }
 },
 "nbformat": 4,
 "nbformat_minor": 2
}
