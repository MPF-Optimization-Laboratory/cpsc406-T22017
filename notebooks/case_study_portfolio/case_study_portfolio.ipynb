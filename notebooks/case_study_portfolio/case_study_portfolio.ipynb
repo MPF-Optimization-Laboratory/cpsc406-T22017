{
 "cells": [
  {
   "cell_type": "markdown",
   "metadata": {},
   "source": [
    "# Case Study: Portfolio Optimization\n",
    "<figure>\n",
    "  <img src=\"stocks.png\" alt=\"..\" title=\"Optional title\" />\n",
    "  <figcaption><center>Figure: The historical rate of return of five technology stocks from the beginning of 2012.</center></figcaption>\n",
    "</figure>\n",
    "\n",
    "[Modern portfolio theory](http://en.wikipedia.org/wiki/Modern_portfolio_theory) is based on the\n",
    "[Markowitz](http://en.wikipedia.org/wiki/Harry_Markowitz) model \n",
    "for determining a portfolio of stocks with a desired expected rate of\n",
    "return that has the smallest amount of variance. The main idea is that\n",
    "by <i>diversifying</i> (investing in a mixture of different stocks),\n",
    "one can guard against large amounts of variance in the rates of return\n",
    "of the individual stocks.\n",
    "\n",
    "Suppose $p_1, \\ldots, p_m$ are the historical prices of a stock over\n",
    "some period of time. We define the $rate\\ of\\ return$ at time $t$,\n",
    "relative to the initial price $p_1$ by\n",
    "\n",
    "\\begin{equation}\n",
    "\tr_t := (p_t - p_1)/p_1, \\text{for} \\ \\ \\ t=1,\\ldots,m. \\ \\ \\ \\ \\ \\ (1)\n",
    "\\end{equation}\n",
    "\n",
    "The $expected\\ rate\\ of\\ return$ is the mean $\\mu$ of the rates of\n",
    "return, and the $risk$ is defined as the $standard\\ deviation$ $\\sigma$ of the rates of return:\n",
    "\n",
    "\\begin{equation}\n",
    "\t\\mu := \\frac{1}{m}\\sum_{t = 1}^m r_t\n",
    "\t\\ \\ \\ \\text{and} \\ \\ \\ \n",
    "\t\\sigma := \\sqrt{\\frac{1}{m} \\sum_{t=1}^m (r_t - \\mu)^2}.\n",
    "\\end{equation}\n",
    "\n",
    "Given a collection of $n$ stocks, let $r^i_t$ be the rate of return\n",
    "of stock $i$ at time $t$. Let $r$ be the $n \\times 1$ vector of the\n",
    "expected rates of return of the $n$ stocks. In addition, let\n",
    "$\\Sigma$ be the $n \\times n$ $covariance\\ matrix$ of the rates of\n",
    "return of the $n$ stocks. Thus, $r_i$ is the mean of the rates of\n",
    "return of stock $i$, $\\Sigma_{ii}$ is the variance of the rates of\n",
    "return of stock $i$, and $\\Sigma_{ij}$ is the covariance of the rates\n",
    "of return of stocks $i$ and $j$:\n",
    "\n",
    "\\begin{equation}\n",
    "\tr_i := \\frac{1}{m}\\sum_{t = 1}^m r_t^i\n",
    "    \\ \\ \\ \\text{and} \\ \\ \\\n",
    "\t\\Sigma_{ij} := \\frac{1}{m}\\sum_{t = 1}^m (r^i_t - r_i)(r^j_t - r_j).\n",
    "\\end{equation}\n",
    "\n",
    "We let $x_i$ be the fraction of our investment money we put into stock\n",
    "$i$, for $i = 1,\\ldots,n$. For the sake of this study, we assume\n",
    "there is no $short\\ selling$ (i.e., holding a stock in negative\n",
    "quantity). Thus, $x$ is a vector of length $n$ that has nonnegative\n",
    "entries that sum to one (i.e., $x \\geq 0$ and $\\sum_{i=1}^n x_i =\n",
    "1$). The vector $x$ represents our $portfolio$ of investments.\n",
    "The expected rate of return and standard deviation of a portfolio $x$ are then given by\n",
    "\n",
    "\\begin{equation}\n",
    "\t\\mu := r^Tx \\ \\ \\ \\text{and}\\ \\ \\ \\sigma := \\sqrt{x^T \\Sigma x}.\n",
    "\\end{equation}\n",
    "\n",
    "\n"
   ]
  },
  {
   "cell_type": "markdown",
   "metadata": {},
   "source": [
    "### Exercise 1 (in class)"
   ]
  },
  {
   "cell_type": "markdown",
   "metadata": {},
   "source": [
    "1.\n",
    "Download financial data (**csv** files) from [Yahoo!~Canada Finance](http://ca.finance.yahoo.com) for the following twenty stocks:\n",
    "\n",
    "* Technology:  AAPL, IBM, GOOG, MSFT, AABA\n",
    "* Services:  AMZN, COST, EBAY, TGT, WMT\n",
    "* Financial:  BMO, BNS, JPM, RY, TD\n",
    "* Energy:  BP, CVX, IMO, TOT, XOM\n",
    "\n",
    "Store the **csv** files in a directory called **'data'**.\n"
   ]
  },
  {
   "cell_type": "markdown",
   "metadata": {},
   "source": [
    "2.\n",
    "Complete the function $load\\_stock(dirname, startdate, enddate)$:\n",
    "\n",
    "This function must read the $adjusted\\ closing\\ prices$ of all stocks in the given directory between the start date and end date, and compute the rates of return as in equation (1)."
   ]
  },
  {
   "cell_type": "code",
   "execution_count": null,
   "metadata": {
    "collapsed": false
   },
   "outputs": [],
   "source": [
    "function load_stocks(dirname, startdate, enddate)\n",
    "    filenames = readdir(dirname)\n",
    "    X = []\n",
    "    dates = []\n",
    "    names = []\n",
    "    for i = 1:length(filenames)\n",
    "        file = filenames[i]\n",
    "        data = readdlm( string( dirname, \"/\", file), ',')\n",
    "        # complete the code \n",
    "        ...\n",
    "    end\n",
    "        \n",
    "    return Array{Float64,2}(X), dates, Array{String,1}(names)\n",
    "end"
   ]
  },
  {
   "cell_type": "markdown",
   "metadata": {},
   "source": [
    "Use the following start and end dates:\n",
    "```\n",
    "startdate = '2017-01-03'; enddate = '2017-12-31';\n",
    "```\n",
    "After you complete $load\\_stock(dirname, startdate, enddate)$ Use the following code to plot your results using the given function $disp\\_stocks$ in $preprocess.jl$"
   ]
  },
  {
   "cell_type": "code",
   "execution_count": null,
   "metadata": {
    "collapsed": false
   },
   "outputs": [],
   "source": [
    "include(\"preprocess.jl\")\n",
    "using PyPlot\n",
    "X, dates, names = load_stocks(\"data\", \"2017-01-03\", \"2017-12-31\")\n",
    "disp_stocks(X, dates, names)"
   ]
  },
  {
   "cell_type": "markdown",
   "metadata": {},
   "source": [
    "3.\n",
    "Complete function $meancov(X)$ that returns the $n \\times 1$ vector $r$ of means and the $n \\times n$ covariance matrix $Sig$ of the rates of returns of $n$ stocks given by $X$:"
   ]
  },
  {
   "cell_type": "code",
   "execution_count": null,
   "metadata": {
    "collapsed": false
   },
   "outputs": [],
   "source": [
    "function meancov(X)\n",
    "    # complete the code \n",
    "end"
   ]
  },
  {
   "cell_type": "markdown",
   "metadata": {},
   "source": [
    "After you complete $meancov(X)$, run the following code to get estimated returns and covariance."
   ]
  },
  {
   "cell_type": "code",
   "execution_count": null,
   "metadata": {
    "collapsed": true
   },
   "outputs": [],
   "source": [
    "r, Sig = meancov(X);"
   ]
  },
  {
   "cell_type": "markdown",
   "metadata": {},
   "source": [
    "4.\n",
    "Complete the function $portfolio\\_scatter(r, Sig, num)$.\n",
    "\n",
    "This function must generate random portfolios and make a scatter plot\n",
    "of their expected rates of return and standard deviation. Each random\n",
    "portfolio is generated by randomly allocating a fraction of the\n",
    "overall investment among a small set of 5 randomly chosen stocks. Make\n",
    "a scatter plot with $num = 1000$ points."
   ]
  },
  {
   "cell_type": "code",
   "execution_count": null,
   "metadata": {
    "collapsed": false
   },
   "outputs": [],
   "source": [
    "function portfolio_scatter(r, Sig, num)\n",
    "    n = length(r)\n",
    "    randmu = zeros(num)\n",
    "    randSig = zeros(num)\n",
    "    figure()\n",
    "    \n",
    "    # complete the code \n",
    "    \n",
    "    plot(randSig, randmu, \"b+\", markersize = 5)\n",
    "    xlabel(\"Std. Dev.\")\n",
    "    ylabel(\"Expected Rate of Returen\")\n",
    "\n",
    "end\n"
   ]
  },
  {
   "cell_type": "markdown",
   "metadata": {},
   "source": [
    "Run the following code when you complete the function $portfolio\\_scatter$."
   ]
  },
  {
   "cell_type": "code",
   "execution_count": null,
   "metadata": {
    "collapsed": false
   },
   "outputs": [],
   "source": [
    "portfolio_scatter(r, Sig, 1000)"
   ]
  },
  {
   "cell_type": "markdown",
   "metadata": {},
   "source": [
    "### Exercise 2 (Homework)"
   ]
  },
  {
   "cell_type": "markdown",
   "metadata": {},
   "source": [
    "1.\n",
    "Use [**JuMP**](https://jump.readthedocs.io/en/latest/)(please read the documentation) to compute the portfolio with minimum risk. What is\n",
    "  the expected rate of return and standard deviation of this\n",
    "  portfolio? Plot the rate of return of this portfolio over the entire\n",
    "  time period. What is the portfolio with maximum possible expected\n",
    "  rate of return? Complete the function $return\\_range$ that\n",
    "  returns $num$ linearly spaced rates of return between the\n",
    "  rate of return of the portfolio with minimum risk and the maximum\n",
    "  possible rate of return:\n",
    "  \n",
    "More about **JuMP**: you can install **JuMP** by \n",
    "```\n",
    "Pkg.add(\"JuMP\")\n",
    "```\n",
    "Note that you need to specify a solver for **JuMP** to optimize your problem, here you need to formulate the portfolio optimization problem as a quadratic programming, it can be solved by a free solver $Ipopt$, you are recommended to install $Ipopt$ and use that as your solver.\n",
    "```\n",
    "Pkg.add(\"Ipopt.jl\")\n",
    "```\n",
    "If you are using Ipopt as your solver, you can initialize the model by\n",
    "```\n",
    "m = Model(solver = IpoptSolver())\n",
    "```\n",
    "When you finish debugging, set `m = Model(solver = IpoptSolver(print_level=0))` to silence IPOPT output.\n"
   ]
  },
  {
   "cell_type": "code",
   "execution_count": null,
   "metadata": {
    "collapsed": false
   },
   "outputs": [],
   "source": [
    "using JuMP\n",
    "using Ipopt\n",
    "function return_range(r, Sig, num)\n",
    "    n = length(r)\n",
    "    # complete the code \n",
    "\n",
    "end"
   ]
  },
  {
   "cell_type": "markdown",
   "metadata": {},
   "source": [
    "Run the following code when you complete $return_range$."
   ]
  },
  {
   "cell_type": "code",
   "execution_count": null,
   "metadata": {
    "collapsed": false
   },
   "outputs": [],
   "source": [
    "rrange = return_range(r, Sig, 12)"
   ]
  },
  {
   "cell_type": "markdown",
   "metadata": {},
   "source": [
    "2.\n",
    "Given a desired expected rate of return, we can see from the\n",
    "  scatter plot that there are many portfolios that we can choose that\n",
    "  have this expected rate of return. However, each of these portfolios\n",
    "  have a different level of risk, or standard deviation. Among these,\n",
    "  the most $efficient$ portfolio is the one giving us the least\n",
    "  amount of risk.\n",
    "\n",
    "  Each expected rate of return determines a different efficient\n",
    "  portfolio. Plotting the expected rate of return and standard\n",
    "  deviation of each of the efficient portfolios will give us a curve\n",
    "  called the $efficient\\ frontier$.\n",
    "  \n",
    "  Complete the function `efficient_frontier(r, Sig, num)`\n",
    "```\n",
    "Y, rates, sigs = efficient_frontier(r, Sig, num)\n",
    "```\n",
    "This function will compute $num$ efficient portfolios with\n",
    "linearly spaced rates of return (obtained from\n",
    "$return\\_range$). These portfolios will be stored in the\n",
    "$n \\times num$ matrix $Y$, and their\n",
    "corresponding expected rates of return and standard deviation in\n",
    "vectors $rates$ and $sigs$. Plot $sigs$ and\n",
    "$rates$ on the scatter plot, with $num = 12$:\n"
   ]
  },
  {
   "cell_type": "code",
   "execution_count": null,
   "metadata": {
    "collapsed": false
   },
   "outputs": [],
   "source": [
    "function efficient_frontier(r, Sig, num)\n",
    "    n = length(r)\n",
    "    rrange = return_range(r, Sig, num)\n",
    "    \n",
    "    sqrtSig = sqrtm(Sig)\n",
    "    \n",
    "    Y = zeros(n, num)\n",
    "    \n",
    "    for jj = 1:num\n",
    "        # complete the code\n",
    "        ...\n",
    "        \n",
    "        Y[:,jj] = ...\n",
    "        \n",
    "    end\n",
    "    \n",
    "    rates = ...\n",
    "    sigs = ...\n",
    "    \n",
    "    return Y, rates, sigs\n",
    "end"
   ]
  },
  {
   "cell_type": "markdown",
   "metadata": {},
   "source": [
    "Run the following code after you complete the function `efficient_frontier`"
   ]
  },
  {
   "cell_type": "code",
   "execution_count": null,
   "metadata": {
    "collapsed": false
   },
   "outputs": [],
   "source": [
    "figure()\n",
    "portfolio_scatter(r, Sig, 1000)\n",
    "num = 12\n",
    "Y, rates, sigs = efficient_frontier(r, Sig, num);\n",
    "plot(sigs, rates, \"ro-\"); \n",
    "ylim(0, 0.5)\n",
    "xlim(0, maximum(sigs))"
   ]
  },
  {
   "cell_type": "markdown",
   "metadata": {},
   "source": [
    "Display your results using the given function `disp_portfolios(Y, rates, sigs, names)`"
   ]
  },
  {
   "cell_type": "code",
   "execution_count": null,
   "metadata": {
    "collapsed": false
   },
   "outputs": [],
   "source": [
    "include(\"preprocess.jl\")\n",
    "disp_portfolios(Y, rates, sigs, names)"
   ]
  },
  {
   "cell_type": "markdown",
   "metadata": {},
   "source": [
    "### Exercise 3 (in class 2)"
   ]
  },
  {
   "cell_type": "markdown",
   "metadata": {},
   "source": [
    "Add a risk-free investment called 'RF' to the collection of stocks with a 3% rate of return. Use your `efficient_frontier` code from Exercise 2 to determine the new efficient frontier and plot it on the same plot with the original efficient frontier. You will notice that the new efficient frontier has two pieces: (1) a linear piece, and (2) a nonlinear piece that coincides with the original efficient frontier. What does the linear piece represent? "
   ]
  },
  {
   "cell_type": "code",
   "execution_count": null,
   "metadata": {
    "collapsed": false
   },
   "outputs": [],
   "source": [
    "num = 12\n",
    "f = 0.03\n",
    "# complete the code "
   ]
  },
  {
   "cell_type": "markdown",
   "metadata": {},
   "source": [
    "The portfolio where these two pieces join is called the $market\\ portfolio$. Complete the function `market_portfolio(f, r, Sig)` that computes the market portfolio corresponding to a risk-free rate of return $f$:\n",
    "\n",
    "Use `IpoptSolver` for the function `market_portfolio` (quadratic programming with linear constraints) and use `SCSSolver` for the function `risk_free_rate`. (linear programming with quadratic constraints)\n",
    "\n",
    "You can use `Model(solver = SCSSolver(verbose=0))` to silent SCS output."
   ]
  },
  {
   "cell_type": "code",
   "execution_count": null,
   "metadata": {
    "collapsed": false
   },
   "outputs": [],
   "source": [
    "#Exercise 3\n",
    "function market_portfolio(f, r, Sig)\n",
    "    \n",
    "    # Define function func such that func(sig) = 0 when risk_free_rate(sig, r, Sig) = f.\n",
    "    func = ...\n",
    "    \n",
    "    # Compute the minimum value of sig\n",
    "    sig1 = ...\n",
    "    \n",
    "    # Compute the maximum value of sig\n",
    "    sig2 = ...\n",
    "    \n",
    "    #Use BinarySearch to solve func(sig) = 0\n",
    "    sig = BinarySearch(func, sig1, sig2)\n",
    "    \n",
    "    # The market portfolio is the portfolio on the efficient frontier with risk\n",
    "    # equal to the sig satisfying   risk_free_rate(sig, r, Sig) = f.\n",
    "    \n",
    "    ...\n",
    "    \n",
    "end\n",
    "\n",
    "function risk_free_rate(sig, r, Sig)\n",
    "    n = length(r)\n",
    "    sqrtSig = sqrtm(Sig)\n",
    "    \n",
    "    # Dual multiplier lambda gives slope of efficient frontier at the point\n",
    "    # (r'*x, sqrt(x'*Sig*x)), where x is the portfolio with maximum expected\n",
    "    # rate of return with risk at most sig.\n",
    "    m = Model(solver = SCSSolver(verbose=0))\n",
    "    @variable(m, x[1:n] >= 0)\n",
    "    @objective(m, Max, r'*x )\n",
    "    @constraint(m, sum(x) == 1)\n",
    "    @constraint(m, soc, norm(sqrtSig*x) <= sig)\n",
    "\n",
    "    status = solve(m)\n",
    "    weights = getvalue(x)\n",
    "    dualvar = getdual(soc)\n",
    "    lambda = dualvar[1]\n",
    "    \n",
    "    # The risk-free rate is the y-intercept of the line tangent to the \n",
    "    # efficient frontier at the point (r'*x, sqrt(x'*Sig*x))\n",
    "    rate = ...  # complete the code \n",
    "    \n",
    "    return rate\n",
    " \n",
    "end\n",
    "\n",
    "function BinarySearch(func, x1, x2)\n",
    "    # This is a generic binary search routine.\n",
    "    # Given x1 and x2, with.\n",
    "    #   func(x1) < 0  and  func(x2) > 0, or\n",
    "    #   func(x1) > 0  and  func(x2) < 0,\n",
    "    # returns x with abs(func(x)) < 1e-6.\n",
    "    @printf \"Binary search:\\n\"\n",
    "    if func(x1) > 0 && func(x2) < 0\n",
    "        # Swap x1 and x2\n",
    "        tmp = x1\n",
    "        x1 = x2\n",
    "        x2 = tmp\n",
    "    end\n",
    "    ii = 0; y = Inf\n",
    "    @printf \"%4s%10s%10s\\n\" \"Iter\" \"x\" \"|f(x)|\"\n",
    "    x = 0\n",
    "    while abs(y) > 1e-6 && ii <= 30\n",
    "        ii += 1; x = (x1 + x2)/2; y = func(x)\n",
    "        @printf \"%4d%10.2e%10.2e\\n\" ii x abs(y)\n",
    "        if y < 0\n",
    "            x1 = x\n",
    "        else\n",
    "            x2 = x\n",
    "        end\n",
    "    end\n",
    "    @printf \"Done.\"\n",
    "    return x\n",
    "end"
   ]
  },
  {
   "cell_type": "markdown",
   "metadata": {},
   "source": [
    "Run the following code after you complete the above functions."
   ]
  },
  {
   "cell_type": "code",
   "execution_count": null,
   "metadata": {
    "collapsed": false,
    "scrolled": false
   },
   "outputs": [],
   "source": [
    "using SCS\n",
    "f = 0.03\n",
    "x = market_portfolio(f, r, Sig)"
   ]
  },
  {
   "cell_type": "markdown",
   "metadata": {},
   "source": [
    "Plot the line that is tangent to the original efficient frontier at the market portfolio. What does the top half of this tangent line represent?\n"
   ]
  },
  {
   "cell_type": "code",
   "execution_count": null,
   "metadata": {
    "collapsed": false
   },
   "outputs": [],
   "source": [
    "# complete the code and plot the figure"
   ]
  },
  {
   "cell_type": "code",
   "execution_count": null,
   "metadata": {
    "collapsed": true
   },
   "outputs": [],
   "source": []
  }
 ],
 "metadata": {
  "kernelspec": {
   "display_name": "Julia 0.6.2",
   "language": "julia",
   "name": "julia-0.6"
  },
  "language_info": {
   "file_extension": ".jl",
   "mimetype": "application/julia",
   "name": "julia",
   "version": "0.6.2"
  }
 },
 "nbformat": 4,
 "nbformat_minor": 1
}
