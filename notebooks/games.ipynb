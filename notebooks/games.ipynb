{
 "cells": [
  {
   "cell_type": "markdown",
   "metadata": {},
   "source": [
    "# Two-person zero-sum games"
   ]
  },
  {
   "cell_type": "code",
   "execution_count": 33,
   "metadata": {},
   "outputs": [],
   "source": [
    "using Convex, ECOS\n",
    "set_default_solver(ECOSSolver(verbose=0));"
   ]
  },
  {
   "cell_type": "code",
   "execution_count": 38,
   "metadata": {},
   "outputs": [
    {
     "data": {
      "text/plain": [
       "2×2 Array{Int64,2}:\n",
       " -10   20\n",
       "  10  -10"
      ]
     },
     "execution_count": 38,
     "metadata": {},
     "output_type": "execute_result"
    }
   ],
   "source": [
    "# Rock-paper-scissors payoff\n",
    "# A = [  0 +1 -1\n",
    "#       -1 0 +1\n",
    "#        +1 -1 0];\n",
    "\n",
    "# Two-action game\n",
    "A = [-10  20\n",
    "      10 -10]"
   ]
  },
  {
   "cell_type": "code",
   "execution_count": 39,
   "metadata": {},
   "outputs": [],
   "source": [
    "m, n = size(A);"
   ]
  },
  {
   "cell_type": "markdown",
   "metadata": {},
   "source": [
    "## Optimal strategy for X"
   ]
  },
  {
   "cell_type": "code",
   "execution_count": 40,
   "metadata": {},
   "outputs": [
    {
     "name": "stdout",
     "output_type": "stream",
     "text": [
      "2.000000001896705\n",
      "[0.6; 0.4]\n"
     ]
    }
   ],
   "source": [
    "λ = Variable(1)\n",
    "x = Variable(n)\n",
    "pr = maximize(λ, λ≤A*x, sum(x)==1, x≥0)\n",
    "solve!(pr)\n",
    "println(\"$(λ.value)\")\n",
    "println(\"$(x.value)\")"
   ]
  },
  {
   "cell_type": "markdown",
   "metadata": {},
   "source": [
    "## Optimal strategy for Y"
   ]
  },
  {
   "cell_type": "code",
   "execution_count": 42,
   "metadata": {},
   "outputs": [
    {
     "name": "stdout",
     "output_type": "stream",
     "text": [
      "1.999999998188575\n",
      "[0.4; 0.6]\n",
      "[0.6; 0.4]\n"
     ]
    }
   ],
   "source": [
    "ν = Variable(1)\n",
    "y = Variable(m)\n",
    "du = minimize(ν, A'*y≤ν, sum(y)==1, y≥0)\n",
    "solve!(du)\n",
    "println(\"$(ν.value)\")\n",
    "println(\"$(y.value)\")\n",
    "println(\"$(du.constraints[1].dual)\")"
   ]
  },
  {
   "cell_type": "code",
   "execution_count": null,
   "metadata": {},
   "outputs": [],
   "source": []
  }
 ],
 "metadata": {
  "kernelspec": {
   "display_name": "Julia nodeps 0.6.2",
   "language": "julia",
   "name": "julia-nodeps-0.6"
  },
  "language_info": {
   "file_extension": ".jl",
   "mimetype": "application/julia",
   "name": "julia",
   "version": "0.6.2"
  }
 },
 "nbformat": 4,
 "nbformat_minor": 2
}
